{
 "cells": [
  {
   "cell_type": "markdown",
   "id": "95763498",
   "metadata": {},
   "source": [
    "## Ciclo for\n"
   ]
  },
  {
   "cell_type": "code",
   "execution_count": 4,
   "id": "85937b76",
   "metadata": {},
   "outputs": [
    {
     "name": "stdout",
     "output_type": "stream",
     "text": [
      "3\n",
      "48\n",
      "9\n",
      "84\n",
      "53\n",
      "12\n"
     ]
    }
   ],
   "source": [
    "nums = [3, 48, 9, 84,53,12]\n",
    "for x in nums:\n",
    "    print(x)\n"
   ]
  },
  {
   "cell_type": "code",
   "execution_count": null,
   "id": "3d11f89c",
   "metadata": {},
   "outputs": [],
   "source": []
  }
 ],
 "metadata": {
  "kernelspec": {
   "display_name": "Python 3 (ipykernel)",
   "language": "python",
   "name": "python3"
  },
  "language_info": {
   "codemirror_mode": {
    "name": "ipython",
    "version": 3
   },
   "file_extension": ".py",
   "mimetype": "text/x-python",
   "name": "python",
   "nbconvert_exporter": "python",
   "pygments_lexer": "ipython3",
   "version": "3.9.0"
  }
 },
 "nbformat": 4,
 "nbformat_minor": 5
}
